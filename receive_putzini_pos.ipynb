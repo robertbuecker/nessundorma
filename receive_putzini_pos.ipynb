{
 "cells": [
  {
   "cell_type": "code",
   "execution_count": 4,
   "metadata": {},
   "outputs": [],
   "source": [
    "import paho.mqtt.client as mqtt\n",
    "import numpy as np\n",
    "import io\n",
    "from IPython.display import clear_output\n",
    "from warnings import warn\n",
    "import time\n",
    "global all_T_mc, all_R_mc\n",
    "all_T_mc, all_R_mc = None, None\n",
    "euler_convention = 'ZYX'\n",
    "\n",
    "from scipy.spatial.transform import Rotation as R"
   ]
  },
  {
   "cell_type": "code",
   "execution_count": 2,
   "metadata": {},
   "outputs": [],
   "source": [
    "def recv_markers(client, userdata, msg):\n",
    "    global all_T_mc, all_R_mc\n",
    "    \n",
    "    data = np.load(io.BytesIO(msg.payload))    \n",
    "    all_T_mc, all_R_mc = data['tvecs'], data['rvecs']\n",
    "\n",
    "client = mqtt.Client()\n",
    "client.on_message = recv_markers\n",
    "client.connect('172.31.1.150', 1883)\n",
    "client.subscribe('putzini/markers')\n",
    "client.loop_start()"
   ]
  },
  {
   "cell_type": "code",
   "execution_count": 11,
   "metadata": {},
   "outputs": [],
   "source": [
    "# DEFINE TRANSFORMS\n",
    "# _ab means: \"a as seen from b\", or equivalently \"transforms from a system from b system\"\n",
    "\n",
    "all_T_mr = np.ones((50, 3))*np.nan\n",
    "all_R_mr = np.ones((50, 3, 3))*np.nan\n",
    "\n",
    "all_T_mr[0,...] = np.array([[0, 0, -235]])\n",
    "all_T_mr[10,...] = np.array([[0, 100, -235]])\n",
    "all_T_mr[11,...] = np.array([[0, 100, -235]])\n",
    "all_T_mr[12,...] = np.array([[0, 100, -235]])\n",
    "\n",
    "euler_R_mr = np.ones_like(all_T_mr) * np.nan\n",
    "euler_R_mr[0,...] = [180,0,0]\n",
    "euler_R_mr[10,...] = [0,0,0]\n",
    "euler_R_mr[11,...] = [0,0,0]\n",
    "euler_R_mr[12,...] = [0,0,0]\n",
    "\n",
    "all_R_mr = np.stack([R.from_euler('ZXZ', ea, degrees=True).as_dcm() for ea in euler_R_mr])\n",
    "\n",
    "T_cp = np.zeros(3) #position of cam from Putzini main axis\n",
    "R_cp = R.from_euler('ZXZ', [0,0,0], degrees=True).as_dcm()"
   ]
  },
  {
   "cell_type": "code",
   "execution_count": 14,
   "metadata": {},
   "outputs": [],
   "source": [
    "def trans(R=None, T=None, inv=False, X=None):\n",
    "    R = np.eye(3) if R is None else R\n",
    "    T = np.zeros(3) if T is None else T\n",
    "    X = np.zeros(3) if X is None else X\n",
    "    if inv:\n",
    "        return np.dot(np.linalg.inv(R), X-T)\n",
    "    else:\n",
    "        return np.dot(R, X)+T"
   ]
  },
  {
   "cell_type": "code",
   "execution_count": 15,
   "metadata": {},
   "outputs": [],
   "source": [
    "def trans_all(X_p=None):\n",
    "    global all_T_mc, all_R_mc\n",
    "    \n",
    "    X_p = np.zeros(3) if X_p is None else X_p\n",
    "    valid = np.any(np.isnan(all_T_mc), axis=1) | np.any(np.isnan(all_T_mr), axis=1)\n",
    "    valid = np.nonzero(1-valid)[0]\n",
    "    \n",
    "    all_X_c = np.ones_like(all_T_mr) * np.nan\n",
    "    all_X_m = np.ones_like(all_T_mr) * np.nan\n",
    "    all_X_r = np.ones_like(all_T_mr) * np.nan\n",
    "    all_R_pm = np.ones_like(all_R_mr) * np.nan\n",
    "    all_R_pr = np.ones_like(all_R_mr) * np.nan\n",
    "    \n",
    "    for ii in valid:\n",
    "        T_mc, R_mc = all_T_mc[ii,...], all_R_mc[ii,...]\n",
    "        T_mr, R_mr = all_T_mr[ii,...], all_R_mr[ii,...]\n",
    "        \n",
    "        all_X_c[ii,...] = trans(R_cp, T_cp, True, X_p)\n",
    "        all_X_m[ii,...] = trans(R_mc, T_mc, True, all_X_c[ii,...])\n",
    "        all_X_r[ii,...] = trans(R_mr, T_mr, False, all_X_m[ii,...])\n",
    "        all_R_pm[ii,...] = np.dot(np.linalg.inv(R_mc), np.linalg.inv(R_cp))\n",
    "        all_R_pr[ii,...] = np.dot(R_mr, all_R_pm[ii,...])\n",
    "        \n",
    "    return valid, all_X_c, all_X_m, all_X_r, all_R_pm, all_R_pr"
   ]
  },
  {
   "cell_type": "code",
   "execution_count": 18,
   "metadata": {},
   "outputs": [
    {
     "ename": "KeyboardInterrupt",
     "evalue": "",
     "output_type": "error",
     "traceback": [
      "\u001b[0;31m---------------------------------------------------------------------------\u001b[0m",
      "\u001b[0;31mKeyboardInterrupt\u001b[0m                         Traceback (most recent call last)",
      "\u001b[0;32m<ipython-input-18-430839e98305>\u001b[0m in \u001b[0;36m<module>\u001b[0;34m\u001b[0m\n\u001b[1;32m      4\u001b[0m     \u001b[0mclear_output\u001b[0m\u001b[0;34m(\u001b[0m\u001b[0mwait\u001b[0m\u001b[0;34m=\u001b[0m\u001b[0;32mTrue\u001b[0m\u001b[0;34m)\u001b[0m\u001b[0;34m\u001b[0m\u001b[0;34m\u001b[0m\u001b[0m\n\u001b[1;32m      5\u001b[0m \u001b[0;34m\u001b[0m\u001b[0m\n\u001b[0;32m----> 6\u001b[0;31m     \u001b[0mtime\u001b[0m\u001b[0;34m.\u001b[0m\u001b[0msleep\u001b[0m\u001b[0;34m(\u001b[0m\u001b[0;36m0.5\u001b[0m\u001b[0;34m)\u001b[0m\u001b[0;34m\u001b[0m\u001b[0;34m\u001b[0m\u001b[0m\n\u001b[0m\u001b[1;32m      7\u001b[0m \u001b[0;34m\u001b[0m\u001b[0m\n\u001b[1;32m      8\u001b[0m     \u001b[0mpos\u001b[0m \u001b[0;34m=\u001b[0m \u001b[0mtrans_all\u001b[0m\u001b[0;34m(\u001b[0m\u001b[0;34m)\u001b[0m\u001b[0;34m\u001b[0m\u001b[0;34m\u001b[0m\u001b[0m\n",
      "\u001b[0;31mKeyboardInterrupt\u001b[0m: "
     ]
    }
   ],
   "source": [
    "t0 = time.time()\n",
    "while True:\n",
    "\n",
    "    clear_output(wait=True)\n",
    "    \n",
    "    time.sleep(0.5)\n",
    "    \n",
    "    pos = trans_all()\n",
    "\n",
    "    print(f'Polled at dt={time.time() - t0:.2f}')\n",
    "    \n",
    "    if len(pos[0]) == 0:\n",
    "        print('WARNING: Not seeing any marker!')\n",
    "        continue\n",
    "\n",
    "    valid_pos = [pos[0]] + [p[pos[0],...] for p in pos[1:]]\n",
    "    pos_vs_room = valid_pos[3]/100\n",
    "    pos_vs_markers = valid_pos[2]/100\n",
    "    euler_vs_room = np.stack([R.from_dcm(r).as_euler(euler_convention, degrees=True) \n",
    "                              for r in valid_pos[5]])\n",
    "    euler_vs_markers = np.stack([R.from_dcm(r).as_euler(euler_convention, degrees=True) \n",
    "                              for r in valid_pos[4]])\n",
    "\n",
    "    print('Valid markers:', pos[0])\n",
    "    print('Positions vs Room:\\n', pos_vs_room)\n",
    "    print('Euler angles vs Room:\\n', euler_vs_room)\n",
    "\n",
    "    print('Positions vs Markers:\\n', pos_vs_markers)\n",
    "    print('Euler angles vs Markers:\\n', euler_vs_room)\n",
    "\n",
    "#     time.sleep(0.5)"
   ]
  }
 ],
 "metadata": {
  "kernelspec": {
   "display_name": "Python 3",
   "language": "python",
   "name": "python3"
  },
  "language_info": {
   "codemirror_mode": {
    "name": "ipython",
    "version": 3
   },
   "file_extension": ".py",
   "mimetype": "text/x-python",
   "name": "python",
   "nbconvert_exporter": "python",
   "pygments_lexer": "ipython3",
   "version": "3.7.1"
  }
 },
 "nbformat": 4,
 "nbformat_minor": 2
}
