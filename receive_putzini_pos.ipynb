{
 "cells": [
  {
   "cell_type": "code",
   "execution_count": 7,
   "metadata": {},
   "outputs": [],
   "source": [
    "import paho.mqtt.client as mqtt\n",
    "import numpy as np\n",
    "import io\n",
    "from IPython.display import clear_output\n",
    "from warnings import warn\n",
    "import time\n",
    "global all_T_mc, all_R_mc\n",
    "all_T_mc, all_R_mc = None, None\n",
    "\n",
    "from scipy.spatial.transform import Rotation as R"
   ]
  },
  {
   "cell_type": "code",
   "execution_count": 2,
   "metadata": {},
   "outputs": [],
   "source": [
    "def recv_markers(client, userdata, msg):\n",
    "    global all_T_mc, all_R_mc\n",
    "    \n",
    "    data = np.load(io.BytesIO(msg.payload))    \n",
    "    all_T_mc, all_R_mc = data['tvecs'], data['rvecs']\n",
    "\n",
    "client = mqtt.Client()\n",
    "client.on_message = recv_markers\n",
    "client.connect('172.31.1.150', 1883)\n",
    "client.subscribe('putzini/markers')\n",
    "client.loop_start()"
   ]
  },
  {
   "cell_type": "code",
   "execution_count": 3,
   "metadata": {},
   "outputs": [],
   "source": [
    "# DEFINE TRANSFORMS\n",
    "# _ab means: \"a as seen from b\", or equivalently \"transforms from a system from b system\"\n",
    "\n",
    "all_T_mr = np.ones((50, 3))*np.nan\n",
    "all_R_mr = np.ones((50, 3, 3))*np.nan\n",
    "\n",
    "all_T_mr[0,...] = np.array([[0, 0, -235]])\n",
    "all_T_mr[10,...] = np.array([[0, 100, -235]])\n",
    "all_T_mr[11,...] = np.array([[0, 100, -235]])\n",
    "all_T_mr[12,...] = np.array([[0, 100, -235]])\n",
    "\n",
    "all_R_mr[0,...] = np.eye(3)\n",
    "all_R_mr[10,...] = np.eye(3)\n",
    "all_R_mr[11,...] = np.eye(3)\n",
    "all_R_mr[12,...] = np.eye(3)\n",
    "\n",
    "T_cp = np.zeros(3)\n",
    "R_cp = np.eye(3)"
   ]
  },
  {
   "cell_type": "code",
   "execution_count": 4,
   "metadata": {},
   "outputs": [],
   "source": [
    "# Room coords vs Putzini coords\n",
    "# coordinates with _a means \"with respect to a\"\n",
    "\n",
    "X_m = lambda X_p: trans(R_mr, T_mr, False,\n",
    "                       trans(R_mc, T_mc, True,\n",
    "                            trans(R_cp, T_cp, True, X_p)))"
   ]
  },
  {
   "cell_type": "code",
   "execution_count": 5,
   "metadata": {},
   "outputs": [],
   "source": [
    "def trans(R=None, T=None, inv=False, X=None):\n",
    "    R = np.eye(3) if R is None else R\n",
    "    T = np.zeros(3) if T is None else T\n",
    "    X = np.zeros(3) if X is None else X\n",
    "    if inv:\n",
    "        return np.dot(np.linalg.inv(R), X-T)\n",
    "    else:\n",
    "        return np.dot(R, X)+T"
   ]
  },
  {
   "cell_type": "code",
   "execution_count": 6,
   "metadata": {},
   "outputs": [],
   "source": [
    "def trans_all(X_p=None):\n",
    "    global all_T_mc, all_R_mc\n",
    "    \n",
    "    X_p = np.zeros(3) if X_p is None else X_p\n",
    "    valid = np.any(np.isnan(all_T_mc), axis=1) | np.any(np.isnan(all_T_mr), axis=1)\n",
    "    valid = np.nonzero(1-valid)[0]\n",
    "    \n",
    "    all_X_c = np.ones_like(all_T_mr) * np.nan\n",
    "    all_X_m = np.ones_like(all_T_mr) * np.nan\n",
    "    all_X_r = np.ones_like(all_T_mr) * np.nan\n",
    "    all_R_pm = np.ones_like(all_R_mr) * np.nan\n",
    "    all_R_pr = np.ones_like(all_R_mr) * np.nan\n",
    "    \n",
    "    for ii in valid:\n",
    "        T_mc, R_mc = all_T_mc[ii,...], all_R_mc[ii,...]\n",
    "        T_mr, R_mr = all_T_mr[ii,...], all_R_mr[ii,...]\n",
    "        \n",
    "        all_X_c[ii,...] = trans(R_cp, T_cp, True, X_p)\n",
    "        all_X_m[ii,...] = trans(R_mc, T_mc, True, all_X_c[ii,...])\n",
    "        all_X_r[ii,...] = trans(R_mr, T_mr, False, all_X_m[ii,...])\n",
    "        all_R_pm[ii,...] = np.dot(np.linalg.inv(R_mc), np.linalg.inv(R_cp))\n",
    "        all_R_pr[ii,...] = np.dot(R_mr, all_R_pm[ii,...])\n",
    "        \n",
    "    return valid, all_X_c, all_X_m, all_X_r, all_R_pm, all_R_pr"
   ]
  },
  {
   "cell_type": "code",
   "execution_count": null,
   "metadata": {},
   "outputs": [
    {
     "name": "stdout",
     "output_type": "stream",
     "text": [
      "Valid markers: [10]\n",
      "Positions vs Room:\n",
      " [[-0.14576737 -4.75006776  2.34623242]]\n",
      "Euler angles vs Room:\n",
      " [[-10.03851316 -10.08802245 173.11583432]]\n",
      "Positions vs Markers:\n",
      " [[-0.14576737 -5.75006776  4.69623242]]\n",
      "Euler angles vs Markers:\n",
      " [[-10.03851316 -10.08802245 173.11583432]]\n"
     ]
    }
   ],
   "source": [
    "euler_convention = 'ZYX'\n",
    "\n",
    "while True:\n",
    "\n",
    "    clear_output(wait=True)\n",
    "    \n",
    "    pos = trans_all()\n",
    "    if len(pos[0]) == 0:\n",
    "        warn('Not seeing any marker!')\n",
    "        continue\n",
    "        \n",
    "    valid_pos = [pos[0]] + [p[pos[0],...] for p in pos[1:]]\n",
    "    pos_vs_room = valid_pos[3]/100\n",
    "    pos_vs_markers = valid_pos[2]/100\n",
    "    euler_vs_room = np.stack([R.from_dcm(r).as_euler(euler_convention, degrees=True) \n",
    "                              for r in valid_pos[5]])\n",
    "    euler_vs_markers = np.stack([R.from_dcm(r).as_euler(euler_convention, degrees=True) \n",
    "                              for r in valid_pos[4]])\n",
    "\n",
    "    print('Valid markers:', pos[0])\n",
    "    print('Positions vs Room:\\n', pos_vs_room)\n",
    "    print('Euler angles vs Room:\\n', euler_vs_room)\n",
    "\n",
    "    print('Positions vs Markers:\\n', pos_vs_markers)\n",
    "    print('Euler angles vs Markers:\\n', euler_vs_room)\n",
    "\n",
    "    time.sleep(0.2)"
   ]
  },
  {
   "cell_type": "code",
   "execution_count": 20,
   "metadata": {},
   "outputs": [],
   "source": [
    "R.from_dcm(rot_in_room[0,...]).as_euler('ZYX', degrees=True)"
   ]
  },
  {
   "cell_type": "code",
   "execution_count": 25,
   "metadata": {},
   "outputs": [
    {
     "data": {
      "text/plain": [
       "array([ 173.04895325,   -7.05780819, -174.73349869])"
      ]
     },
     "execution_count": 25,
     "metadata": {},
     "output_type": "execute_result"
    }
   ],
   "source": [
    "r"
   ]
  },
  {
   "cell_type": "code",
   "execution_count": null,
   "metadata": {},
   "outputs": [
    {
     "name": "stdout",
     "output_type": "stream",
     "text": [
      "[ 0 10 11 12]\n",
      "[-41.82863998  48.68709946 418.32611084]\n",
      "[-32.29256337  13.75156636 425.94291993]\n",
      "[-32.36325634  13.4818728  188.94181891]\n",
      "\n",
      "[-144.89752197 -804.35949707  317.53515625]\n",
      "[-150.91511658 -747.40082779  430.11340978]\n",
      "[-150.56714219 -647.74015399  193.17354491]\n",
      "\n",
      "[-11702.38964844  -7855.84960938   4461.79833984]\n",
      "[ 14363.42180907  -5606.73452978 -10492.91225307]\n",
      "[ 14361.7692039   -5507.53729426 -10728.976911  ]\n",
      "\n",
      "[-571.38989258  106.2677002   320.15924072]\n",
      "[ 198.05850731 -367.67745711  516.49839972]\n",
      "[ 199.24943827 -267.5206278   279.89568423]\n",
      "\n"
     ]
    }
   ],
   "source": [
    "import time\n",
    "while True:\n",
    "    time.sleep(1)"
   ]
  },
  {
   "cell_type": "code",
   "execution_count": 421,
   "metadata": {},
   "outputs": [
    {
     "data": {
      "text/plain": [
       "array([  33.16356, -198.3498 ,  430.42578], dtype=float32)"
      ]
     },
     "execution_count": 421,
     "metadata": {},
     "output_type": "execute_result"
    }
   ],
   "source": [
    "T"
   ]
  },
  {
   "cell_type": "code",
   "execution_count": 422,
   "metadata": {},
   "outputs": [
    {
     "data": {
      "text/plain": [
       "array([ 94.37149532, 173.23027303, 432.59809898])"
      ]
     },
     "execution_count": 422,
     "metadata": {},
     "output_type": "execute_result"
    }
   ],
   "source": [
    "to_marker_coord([0,0,0])"
   ]
  },
  {
   "cell_type": "code",
   "execution_count": 423,
   "metadata": {},
   "outputs": [
    {
     "data": {
      "text/plain": [
       "array([ 94.37149532, 173.23027303, 197.59809898])"
      ]
     },
     "execution_count": 423,
     "metadata": {},
     "output_type": "execute_result"
    }
   ],
   "source": [
    "to_room_coord([0,0,0])"
   ]
  }
 ],
 "metadata": {
  "kernelspec": {
   "display_name": "Python 3",
   "language": "python",
   "name": "python3"
  },
  "language_info": {
   "codemirror_mode": {
    "name": "ipython",
    "version": 3
   },
   "file_extension": ".py",
   "mimetype": "text/x-python",
   "name": "python",
   "nbconvert_exporter": "python",
   "pygments_lexer": "ipython3",
   "version": "3.7.1"
  }
 },
 "nbformat": 4,
 "nbformat_minor": 2
}
