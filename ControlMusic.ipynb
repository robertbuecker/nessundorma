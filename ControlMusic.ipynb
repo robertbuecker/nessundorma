{
 "cells": [
  {
   "cell_type": "code",
   "execution_count": 1,
   "metadata": {},
   "outputs": [],
   "source": [
    "import paho.mqtt.client as mqtt\n",
    "import simpleaudio as sa\n",
    "import time\n",
    "import pandas as pd\n",
    "import json\n",
    "import numpy as np\n",
    "import sys\n",
    "import pipeclient\n",
    "from warnings import warn"
   ]
  },
  {
   "cell_type": "code",
   "execution_count": 6,
   "metadata": {},
   "outputs": [],
   "source": [
    "if '':\n",
    "    print('bla')"
   ]
  },
  {
   "cell_type": "code",
   "execution_count": 2,
   "metadata": {},
   "outputs": [],
   "source": [
    "use_audacity = True\n",
    "use_aud_list = True\n",
    "\n",
    "\n",
    "if use_audacity:\n",
    "    aud = pipeclient.PipeClient()\n",
    "else:\n",
    "    opera = sa.WaveObject.from_wave_file('opera.wav')    \n",
    "\n",
    "# Define set of functions for start and stop\n",
    "if use_audacity:\n",
    "    def play(start=0):\n",
    "        aud.write('Stop')\n",
    "        aud.write('CursProjectStart')\n",
    "        aud.write('PlayStop')\n",
    "        return time.time()\n",
    "    def stop():\n",
    "        aud.write('Stop')\n",
    "else:\n",
    "    def play():\n",
    "        player = opera.play()\n",
    "        return time.time()"
   ]
  },
  {
   "cell_type": "code",
   "execution_count": 3,
   "metadata": {},
   "outputs": [
    {
     "name": "stdout",
     "output_type": "stream",
     "text": [
      "Sending command: GetInfo: Type=Labels\n",
      "Loaded score table. Starts with:\n",
      "       start       end           comment  speed  trigger\n",
      "0   7.16926   7.16926             slow7      7    False\n",
      "1  21.33730  21.33730             slow5      5    False\n",
      "2  31.56140  31.56140             slow3      3    False\n",
      "3  42.36630  42.36630       BeginnArie1     -1     True\n",
      "4  72.34020  72.34020  BeginnMotivArie1     -1     True\n"
     ]
    }
   ],
   "source": [
    "if use_audacity and use_aud_list:\n",
    "    aud.write('GetInfo: Type=Labels')\n",
    "    time.sleep(0.2)\n",
    "    lbl0 = pd.DataFrame(json.loads(aud.read().split('BatchCommand')[0])[0][1])\n",
    "    lbl0.columns = ['start', 'end', 'label']\n",
    "else:\n",
    "    lbl0 = pd.read_csv('opera.txt', sep='\\t', header=None)\n",
    "    lbl0.columns = ['start', 'end', 'label']\n",
    "    \n",
    "# Table sanitizer\n",
    "lbl0 = lbl0.drop(columns='label').join(\n",
    "    lbl0.label.str.split(\n",
    "        ',', expand=True).rename(\n",
    "        columns={0: 'comment', 1: 'speed', 2: 'trigger'}))\n",
    "lbl0.trigger = lbl0.trigger.str.lower().str.strip() == 't'\n",
    "lbl0.speed = pd.to_numeric(lbl0.speed).fillna(-1).astype(int)\n",
    "\n",
    "print('Loaded score table. Starts with:\\n', lbl0.head(5))"
   ]
  },
  {
   "cell_type": "code",
   "execution_count": 5,
   "metadata": {},
   "outputs": [],
   "source": [
    "global waiting, trig_steps\n",
    "waiting = False\n",
    "trig_steps = []\n",
    "\n",
    "def on_message(client, userdata, message):\n",
    "    global waiting, trig_steps\n",
    "    if 'WaitForMusic' in message.payload.decode():\n",
    "        waiting = True\n",
    "        msg = json.loads(message.payload.decode())\n",
    "        trig_steps.append(msg['WaitForMusic'])\n",
    "        print('Waiting in:', msg['WaitForMusic'])\n",
    "\n",
    "# del client\n",
    "client = mqtt.Client()\n",
    "client.on_message = on_message\n",
    "client.connect('172.31.1.150', 1883)\n",
    "client.subscribe('music/commands')\n",
    "client.loop_start()"
   ]
  },
  {
   "cell_type": "code",
   "execution_count": 5,
   "metadata": {},
   "outputs": [
    {
     "name": "stdout",
     "output_type": "stream",
     "text": [
      "Sending command: Stop\n",
      "Sending command: CursProjectStart\n",
      "Sending command: PlayStop\n"
     ]
    },
    {
     "ename": "NameError",
     "evalue": "name 'client' is not defined",
     "output_type": "error",
     "traceback": [
      "\u001b[0;31m---------------------------------------------------------------------------\u001b[0m",
      "\u001b[0;31mNameError\u001b[0m                                 Traceback (most recent call last)",
      "\u001b[0;32m<ipython-input-5-dcd7734a1cb9>\u001b[0m in \u001b[0;36m<module>\u001b[0;34m\u001b[0m\n\u001b[1;32m      1\u001b[0m \u001b[0;31m# client.connect('172.31.1.150', 1883)\u001b[0m\u001b[0;34m\u001b[0m\u001b[0;34m\u001b[0m\u001b[0;34m\u001b[0m\u001b[0m\n\u001b[1;32m      2\u001b[0m \u001b[0mt0\u001b[0m \u001b[0;34m=\u001b[0m \u001b[0mplay\u001b[0m\u001b[0;34m(\u001b[0m\u001b[0;34m)\u001b[0m\u001b[0;34m\u001b[0m\u001b[0;34m\u001b[0m\u001b[0m\n\u001b[0;32m----> 3\u001b[0;31m \u001b[0mlast_msg\u001b[0m \u001b[0;34m=\u001b[0m \u001b[0mclient\u001b[0m\u001b[0;34m.\u001b[0m\u001b[0mpublish\u001b[0m\u001b[0;34m(\u001b[0m\u001b[0;34m'music/state'\u001b[0m\u001b[0;34m,\u001b[0m \u001b[0mjson\u001b[0m\u001b[0;34m.\u001b[0m\u001b[0mdumps\u001b[0m\u001b[0;34m(\u001b[0m\u001b[0;34m{\u001b[0m\u001b[0;34m'action'\u001b[0m\u001b[0;34m:\u001b[0m \u001b[0;34m'Trigger'\u001b[0m\u001b[0;34m}\u001b[0m\u001b[0;34m)\u001b[0m\u001b[0;34m)\u001b[0m\u001b[0;34m\u001b[0m\u001b[0;34m\u001b[0m\u001b[0m\n\u001b[0m\u001b[1;32m      4\u001b[0m \u001b[0mlbl\u001b[0m \u001b[0;34m=\u001b[0m \u001b[0mlbl0\u001b[0m\u001b[0;34m.\u001b[0m\u001b[0mcopy\u001b[0m\u001b[0;34m(\u001b[0m\u001b[0;34m)\u001b[0m\u001b[0;34m\u001b[0m\u001b[0;34m\u001b[0m\u001b[0m\n\u001b[1;32m      5\u001b[0m \u001b[0mqt\u001b[0m \u001b[0;34m=\u001b[0m \u001b[0;34m[\u001b[0m\u001b[0;34m]\u001b[0m \u001b[0;31m# trigger queue\u001b[0m\u001b[0;34m\u001b[0m\u001b[0;34m\u001b[0m\u001b[0m\n",
      "\u001b[0;31mNameError\u001b[0m: name 'client' is not defined"
     ]
    }
   ],
   "source": [
    "# client.connect('172.31.1.150', 1883)\n",
    "t0 = play()\n",
    "last_msg = client.publish('music/state', json.dumps({'action': 'Trigger'}))\n",
    "lbl = lbl0.copy()\n",
    "qt = [] # trigger queue\n",
    "\n",
    "while len(lbl) > 0: \n",
    "    \n",
    "    try:       \n",
    "        \n",
    "        # Any missing Triggers?\n",
    "        if (len(qt) > 0) and waiting:\n",
    "            comm = qt.pop(0)\n",
    "            print(f'SENDING DELAYED TRIGGER {comm}')\n",
    "            last_msg = client.publish('music/state', json.dumps({'action': 'Trigger'}))\n",
    "            time.sleep(0.05)\n",
    "            \n",
    "        ela = time.time() - t0\n",
    "        passed = lbl[lbl.start <= ela]\n",
    "        lbl.drop(passed.index, inplace=True)\n",
    "        \n",
    "        for event in passed.itertuples():\n",
    "            print('Passing Label:', event.comment)\n",
    "            msg = {}\n",
    "            if event.trigger:\n",
    "                if waiting:\n",
    "                    msg['action'] = 'Trigger'\n",
    "#                     print(f'Sending trigger {event.comment} to finish step {last_msg[-1]}')\n",
    "                    waiting = False\n",
    "                else:\n",
    "                    # Trigger while not waiting for one...\n",
    "                    qt.append(event.comment)\n",
    "#                     warn(f'TRIGGER {event.comment} REQUESTED BY MUSIC WHILE NOT AWAITED ({len(qt)} TRIGGER(s) WAITING). CHECK TIMING!!!')\n",
    "            \n",
    "            if event.speed > -1:\n",
    "                msg['speed'] = event.speed\n",
    "            \n",
    "            if len(msg) > 0:\n",
    "                print('Sending message:', msg)\n",
    "                last_msg = client.publish('music/state', json.dumps(msg))\n",
    "                \n",
    "        time.sleep(0.05)\n",
    "        \n",
    "    except KeyboardInterrupt:\n",
    "        stop()\n",
    "        client.loop_stop()        \n",
    "        print('Opera finished.')\n",
    "        break\n",
    "        \n",
    "    except Exception as err:\n",
    "        stop()\n",
    "        raise err"
   ]
  },
  {
   "cell_type": "code",
   "execution_count": 9,
   "metadata": {},
   "outputs": [
    {
     "data": {
      "text/plain": [
       "0"
      ]
     },
     "execution_count": 9,
     "metadata": {},
     "output_type": "execute_result"
    }
   ],
   "source": [
    "client.unsubscribe('music/commands')\n",
    "client.disconnect()"
   ]
  },
  {
   "cell_type": "code",
   "execution_count": 21,
   "metadata": {},
   "outputs": [
    {
     "name": "stdout",
     "output_type": "stream",
     "text": [
      "Sending command: Stop\n"
     ]
    }
   ],
   "source": [
    "stop()"
   ]
  },
  {
   "cell_type": "code",
   "execution_count": 61,
   "metadata": {},
   "outputs": [
    {
     "data": {
      "text/html": [
       "<div>\n",
       "<style scoped>\n",
       "    .dataframe tbody tr th:only-of-type {\n",
       "        vertical-align: middle;\n",
       "    }\n",
       "\n",
       "    .dataframe tbody tr th {\n",
       "        vertical-align: top;\n",
       "    }\n",
       "\n",
       "    .dataframe thead th {\n",
       "        text-align: right;\n",
       "    }\n",
       "</style>\n",
       "<table border=\"1\" class=\"dataframe\">\n",
       "  <thead>\n",
       "    <tr style=\"text-align: right;\">\n",
       "      <th></th>\n",
       "      <th>start</th>\n",
       "      <th>end</th>\n",
       "      <th>label</th>\n",
       "    </tr>\n",
       "  </thead>\n",
       "  <tbody>\n",
       "    <tr>\n",
       "      <th>0</th>\n",
       "      <td>5.892005</td>\n",
       "      <td>5.892005</td>\n",
       "      <td>uhhh</td>\n",
       "    </tr>\n",
       "    <tr>\n",
       "      <th>1</th>\n",
       "      <td>31.985169</td>\n",
       "      <td>31.985169</td>\n",
       "      <td>ahhh</td>\n",
       "    </tr>\n",
       "  </tbody>\n",
       "</table>\n",
       "</div>"
      ],
      "text/plain": [
       "       start        end label\n",
       "0   5.892005   5.892005  uhhh\n",
       "1  31.985169  31.985169  ahhh"
      ]
     },
     "execution_count": 61,
     "metadata": {},
     "output_type": "execute_result"
    }
   ],
   "source": [
    "lbl[passed]"
   ]
  },
  {
   "cell_type": "code",
   "execution_count": 60,
   "metadata": {},
   "outputs": [
    {
     "data": {
      "text/html": [
       "<div>\n",
       "<style scoped>\n",
       "    .dataframe tbody tr th:only-of-type {\n",
       "        vertical-align: middle;\n",
       "    }\n",
       "\n",
       "    .dataframe tbody tr th {\n",
       "        vertical-align: top;\n",
       "    }\n",
       "\n",
       "    .dataframe thead th {\n",
       "        text-align: right;\n",
       "    }\n",
       "</style>\n",
       "<table border=\"1\" class=\"dataframe\">\n",
       "  <thead>\n",
       "    <tr style=\"text-align: right;\">\n",
       "      <th></th>\n",
       "      <th>start</th>\n",
       "      <th>end</th>\n",
       "      <th>label</th>\n",
       "    </tr>\n",
       "  </thead>\n",
       "  <tbody>\n",
       "  </tbody>\n",
       "</table>\n",
       "</div>"
      ],
      "text/plain": [
       "Empty DataFrame\n",
       "Columns: [start, end, label]\n",
       "Index: []"
      ]
     },
     "execution_count": 60,
     "metadata": {},
     "output_type": "execute_result"
    }
   ],
   "source": [
    "lbl.drop(passed.index)"
   ]
  },
  {
   "cell_type": "code",
   "execution_count": null,
   "metadata": {},
   "outputs": [],
   "source": [
    "def send_command('lbl')"
   ]
  },
  {
   "cell_type": "code",
   "execution_count": null,
   "metadata": {},
   "outputs": [],
   "source": []
  },
  {
   "cell_type": "code",
   "execution_count": 77,
   "metadata": {},
   "outputs": [],
   "source": [
    "player.stop()"
   ]
  }
 ],
 "metadata": {
  "kernelspec": {
   "display_name": "Python 3",
   "language": "python",
   "name": "python3"
  },
  "language_info": {
   "codemirror_mode": {
    "name": "ipython",
    "version": 3
   },
   "file_extension": ".py",
   "mimetype": "text/x-python",
   "name": "python",
   "nbconvert_exporter": "python",
   "pygments_lexer": "ipython3",
   "version": "3.7.1"
  }
 },
 "nbformat": 4,
 "nbformat_minor": 2
}
